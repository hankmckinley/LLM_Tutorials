{
 "cells": [
  {
   "cell_type": "code",
   "execution_count": null,
   "id": "9892a122-a72b-4846-995e-6e66b81320de",
   "metadata": {},
   "outputs": [],
   "source": [
    "# Based on the academic paper Bengio et al. 2003"
   ]
  },
  {
   "cell_type": "code",
   "execution_count": 41,
   "id": "78d10faa-126e-4ace-a5c0-637a422e4b52",
   "metadata": {},
   "outputs": [],
   "source": [
    "import torch\n",
    "import torch.nn.functional as F\n",
    "import matplotlib.pyplot as plt\n",
    "%matplotlib inline"
   ]
  },
  {
   "cell_type": "code",
   "execution_count": 42,
   "id": "1a0fbb81-b618-40b5-a9dd-f3123e3169ff",
   "metadata": {},
   "outputs": [
    {
     "data": {
      "text/plain": [
       "['emma', 'olivia', 'ava', 'isabella', 'sophia', 'charlotte', 'mia', 'amelia']"
      ]
     },
     "execution_count": 42,
     "metadata": {},
     "output_type": "execute_result"
    }
   ],
   "source": [
    "# Read in all the words from data\n",
    "words = open('names.txt', 'r').read().splitlines()\n",
    "words[:8]"
   ]
  },
  {
   "cell_type": "code",
   "execution_count": 43,
   "id": "5248cd8b-1f09-4138-a32f-63404ee16fa9",
   "metadata": {},
   "outputs": [
    {
     "data": {
      "text/plain": [
       "32033"
      ]
     },
     "execution_count": 43,
     "metadata": {},
     "output_type": "execute_result"
    }
   ],
   "source": [
    "len(words)"
   ]
  },
  {
   "cell_type": "code",
   "execution_count": 44,
   "id": "57c1f8cc-ae1b-4b8a-b69e-c89b25972761",
   "metadata": {},
   "outputs": [],
   "source": [
    "# build out the vocabulary of characters and mappings again\n",
    "\n",
    "chars = sorted(set(''.join(words)))\n",
    "stoi = {s:i+1 for i, s in enumerate(chars)}\n",
    "stoi['.'] = 0\n",
    "itos = {i:s for s,i in stoi.items()}"
   ]
  },
  {
   "cell_type": "code",
   "execution_count": 46,
   "id": "36989781-221c-4803-90a5-b290ec3aba08",
   "metadata": {},
   "outputs": [
    {
     "name": "stdout",
     "output_type": "stream",
     "text": [
      ".... ---> e\n",
      "...e ---> m\n",
      "..em ---> m\n",
      ".emm ---> a\n",
      "emma ---> .\n",
      ".... ---> o\n",
      "...o ---> l\n",
      "..ol ---> i\n",
      ".oli ---> v\n",
      "oliv ---> i\n",
      "livi ---> a\n",
      "ivia ---> .\n",
      ".... ---> a\n",
      "...a ---> v\n",
      "..av ---> a\n",
      ".ava ---> .\n",
      ".... ---> i\n",
      "...i ---> s\n",
      "..is ---> a\n",
      ".isa ---> b\n",
      "isab ---> e\n",
      "sabe ---> l\n",
      "abel ---> l\n",
      "bell ---> a\n",
      "ella ---> .\n"
     ]
    }
   ],
   "source": [
    "# building the dataset\n",
    "\n",
    "block_size = 4\n",
    "X, Y = [], []\n",
    "for w in words[:4]:\n",
    "    context = [0] * block_size\n",
    "    for ch in w + '.':\n",
    "        ix = stoi[ch]\n",
    "        X.append(context)\n",
    "        Y.append(ix)\n",
    "        print(''.join(itos[i] for i in context), '--->', itos[ix])\n",
    "        context = context[1:] + [ix]\n",
    "X = torch.tensor(X)\n",
    "Y = torch.tensor(Y)"
   ]
  },
  {
   "cell_type": "code",
   "execution_count": 47,
   "id": "3ffd15ba-3763-4e8c-becc-4279f364c7cf",
   "metadata": {},
   "outputs": [
    {
     "data": {
      "text/plain": [
       "(torch.Size([25, 4]), torch.int64, torch.Size([25]), torch.int64)"
      ]
     },
     "execution_count": 47,
     "metadata": {},
     "output_type": "execute_result"
    }
   ],
   "source": [
    "X.shape, X.dtype, Y.shape, Y.dtype"
   ]
  },
  {
   "cell_type": "code",
   "execution_count": 48,
   "id": "a5b82339-a600-4e64-b55b-08538d64a664",
   "metadata": {},
   "outputs": [
    {
     "name": "stdout",
     "output_type": "stream",
     "text": [
      "torch.Size([182625, 4]) torch.Size([182625])\n",
      "torch.Size([22655, 4]) torch.Size([22655])\n",
      "torch.Size([22866, 4]) torch.Size([22866])\n"
     ]
    }
   ],
   "source": [
    "def build_dataset(words):\n",
    "    block_size = 4\n",
    "    X, Y = [], []\n",
    "    for w in words:\n",
    "        context = [0] * block_size\n",
    "        for ch in w + '.':\n",
    "            ix = stoi[ch]\n",
    "            X.append(context)\n",
    "            Y.append(ix)\n",
    "            # print(''.join(itos[i] for i in context), '--->', itos[ix])\n",
    "            context = context[1:] + [ix]\n",
    "    X = torch.tensor(X)\n",
    "    Y = torch.tensor(Y)\n",
    "    print(X.shape, Y.shape)\n",
    "    return X, Y\n",
    "\n",
    "import random\n",
    "random.seed(42)\n",
    "random.shuffle(words)\n",
    "\n",
    "n1 = int(0.8 * len(words))\n",
    "n2 = int(0.9 * len(words))\n",
    "\n",
    "Xtr, Ytr = build_dataset(words[:n1])\n",
    "Xdev, Ydev = build_dataset(words[n1:n2])\n",
    "Xte, Yte = build_dataset(words[n2:])"
   ]
  },
  {
   "cell_type": "code",
   "execution_count": 58,
   "id": "b2e1cae4-6e05-43c1-b546-bd6847149f10",
   "metadata": {},
   "outputs": [
    {
     "data": {
      "text/plain": [
       "tensor([ 1.0344,  0.9567, -1.1993,  0.1830,  2.1154,  2.2736,  0.0542, -1.0533,\n",
       "         0.4505, -0.6161])"
      ]
     },
     "execution_count": 58,
     "metadata": {},
     "output_type": "execute_result"
    }
   ],
   "source": [
    "C = torch.randn((27,10))\n",
    "C[5]"
   ]
  },
  {
   "cell_type": "code",
   "execution_count": 72,
   "id": "340d55e8-4d76-4ff9-b2d4-8ac6bc4c0322",
   "metadata": {},
   "outputs": [
    {
     "data": {
      "text/plain": [
       "torch.Size([182625, 4, 10])"
      ]
     },
     "execution_count": 72,
     "metadata": {},
     "output_type": "execute_result"
    }
   ],
   "source": [
    "emb = C[Xtr]\n",
    "emb.shape"
   ]
  },
  {
   "cell_type": "code",
   "execution_count": 73,
   "id": "d66f00bb-e68e-4e83-aedb-9dc0f24d2595",
   "metadata": {},
   "outputs": [],
   "source": [
    "W1 = torch.rand((20, 100))\n",
    "b1 = torch.randn(100)"
   ]
  },
  {
   "cell_type": "markdown",
   "id": "67ebf7a3-3093-47e0-bd39-50b5d0094490",
   "metadata": {},
   "source": [
    "There is significant nuance to this emb.view() step. You can see that emb is of size [32, 3, 2] above, which will not work for hte matrix multiplication with W1. W1 has six rows because there are 6 total features being used as context for the output. But in emb we have those features stored as matrices with 3 rows and 2 columns. tensor.view() allows us to automatically reshape the tensor to the correct size while retaining all the information. Note view() is a subset of reshape(), reshape() will generate a view() if shapes are compatible or a copy if the shapes are incompatible. "
   ]
  },
  {
   "cell_type": "code",
   "execution_count": 74,
   "id": "bab0a4ef-188e-44cf-aa55-1a80d2504337",
   "metadata": {},
   "outputs": [
    {
     "data": {
      "text/plain": [
       "tensor([[-0.9981, -0.9808,  0.4399,  ..., -0.6002, -0.9881, -0.9937],\n",
       "        [-0.9981, -0.9808,  0.4399,  ..., -0.6002, -0.9881, -0.9937],\n",
       "        [-0.9981, -0.9808,  0.4399,  ..., -0.6002, -0.9881, -0.9937],\n",
       "        ...,\n",
       "        [ 0.9724, -0.9672, -0.5958,  ...,  0.9607,  0.8425,  0.9598],\n",
       "        [ 0.6323,  0.4963,  0.8241,  ...,  0.9945,  0.9228,  0.9993],\n",
       "        [-0.8974, -0.7638, -0.7376,  ...,  0.3686,  0.9638, -0.8973]])"
      ]
     },
     "execution_count": 74,
     "metadata": {},
     "output_type": "execute_result"
    }
   ],
   "source": [
    "h = torch.tanh(emb.view(-1, 20) @ W1 + b1) \n",
    "h"
   ]
  },
  {
   "cell_type": "code",
   "execution_count": 75,
   "id": "06c8b72e-69f6-4d62-a99f-4ef9b29078bd",
   "metadata": {},
   "outputs": [
    {
     "data": {
      "text/plain": [
       "torch.Size([365250, 100])"
      ]
     },
     "execution_count": 75,
     "metadata": {},
     "output_type": "execute_result"
    }
   ],
   "source": [
    "h.shape"
   ]
  },
  {
   "cell_type": "code",
   "execution_count": 76,
   "id": "31d02224-e1ce-483e-af91-0a15c2dad286",
   "metadata": {},
   "outputs": [],
   "source": [
    "W2 = torch.randn((100, 27))\n",
    "b2 = torch.randn(27)"
   ]
  },
  {
   "cell_type": "code",
   "execution_count": 77,
   "id": "f941853b-314c-4302-a0ac-396c19a452ec",
   "metadata": {},
   "outputs": [],
   "source": [
    "logits = h @ W2 + b2"
   ]
  },
  {
   "cell_type": "code",
   "execution_count": 78,
   "id": "445d55b3-412a-4f2d-a144-5be0c290b290",
   "metadata": {},
   "outputs": [
    {
     "data": {
      "text/plain": [
       "torch.Size([365250, 27])"
      ]
     },
     "execution_count": 78,
     "metadata": {},
     "output_type": "execute_result"
    }
   ],
   "source": [
    "logits.shape"
   ]
  },
  {
   "cell_type": "code",
   "execution_count": 79,
   "id": "01afc607-17e3-47f8-a3e7-f08c5dcf8b5f",
   "metadata": {},
   "outputs": [],
   "source": [
    "counts = logits.exp()"
   ]
  },
  {
   "cell_type": "code",
   "execution_count": 80,
   "id": "16712cb1-db69-4e33-8813-7e3a39a39ee0",
   "metadata": {},
   "outputs": [],
   "source": [
    "prob = counts / counts.sum(1, keepdims=True)"
   ]
  },
  {
   "cell_type": "code",
   "execution_count": 81,
   "id": "5cddb13a-fc77-4726-8a53-caceb3e75f03",
   "metadata": {},
   "outputs": [
    {
     "data": {
      "text/plain": [
       "torch.Size([365250, 27])"
      ]
     },
     "execution_count": 81,
     "metadata": {},
     "output_type": "execute_result"
    }
   ],
   "source": [
    "prob.shape"
   ]
  },
  {
   "cell_type": "code",
   "execution_count": 82,
   "id": "4a000343-b28b-47d7-aa91-8480d474534c",
   "metadata": {},
   "outputs": [
    {
     "ename": "IndexError",
     "evalue": "shape mismatch: indexing tensors could not be broadcast together with shapes [365250], [182625]",
     "output_type": "error",
     "traceback": [
      "\u001b[0;31m---------------------------------------------------------------------------\u001b[0m",
      "\u001b[0;31mIndexError\u001b[0m                                Traceback (most recent call last)",
      "Cell \u001b[0;32mIn[82], line 1\u001b[0m\n\u001b[0;32m----> 1\u001b[0m \u001b[38;5;241m-\u001b[39m\u001b[43mprob\u001b[49m\u001b[43m[\u001b[49m\u001b[43mtorch\u001b[49m\u001b[38;5;241;43m.\u001b[39;49m\u001b[43marange\u001b[49m\u001b[43m(\u001b[49m\u001b[43mprob\u001b[49m\u001b[38;5;241;43m.\u001b[39;49m\u001b[43mshape\u001b[49m\u001b[43m[\u001b[49m\u001b[38;5;241;43m0\u001b[39;49m\u001b[43m]\u001b[49m\u001b[43m)\u001b[49m\u001b[43m,\u001b[49m\u001b[43m \u001b[49m\u001b[43mYtr\u001b[49m\u001b[43m]\u001b[49m\u001b[38;5;241m.\u001b[39mlog()\u001b[38;5;241m.\u001b[39mmean() \u001b[38;5;66;03m# Loss that we want to minimize\u001b[39;00m\n",
      "\u001b[0;31mIndexError\u001b[0m: shape mismatch: indexing tensors could not be broadcast together with shapes [365250], [182625]"
     ]
    }
   ],
   "source": [
    "-prob[torch.arange(prob.shape[0]), Ytr].log().mean() # Loss that we want to minimize"
   ]
  },
  {
   "cell_type": "code",
   "execution_count": 83,
   "id": "e6165ed7-36fa-4047-9228-47bbc948d371",
   "metadata": {},
   "outputs": [
    {
     "data": {
      "text/plain": [
       "torch.Size([25])"
      ]
     },
     "execution_count": 83,
     "metadata": {},
     "output_type": "execute_result"
    }
   ],
   "source": [
    "Y.shape"
   ]
  },
  {
   "cell_type": "code",
   "execution_count": 84,
   "id": "4e0729c0-6224-43d6-b4b6-8873af817468",
   "metadata": {},
   "outputs": [],
   "source": [
    "# Now redone to make it look pretty "
   ]
  },
  {
   "cell_type": "code",
   "execution_count": 121,
   "id": "cf51dab2-87ab-47a7-ad85-86f86c447c6b",
   "metadata": {},
   "outputs": [],
   "source": [
    "g = torch.Generator().manual_seed(2147483647)\n",
    "\n",
    "C = torch.randn((27,10), generator=g)\n",
    "\n",
    "W1 = torch.randn((40,200), generator=g)\n",
    "b1 = torch.randn(200, generator=g)\n",
    "W2 = torch.randn((200,27), generator=g)\n",
    "b2 = torch.randn(27, generator=g)\n",
    "parameters = [C, W1, b1, W2, b2]"
   ]
  },
  {
   "cell_type": "code",
   "execution_count": 122,
   "id": "24d469d8-4cb5-45e4-b01a-2cd385869721",
   "metadata": {},
   "outputs": [
    {
     "data": {
      "text/plain": [
       "13897"
      ]
     },
     "execution_count": 122,
     "metadata": {},
     "output_type": "execute_result"
    }
   ],
   "source": [
    "sum(p.nelement() for p in parameters)"
   ]
  },
  {
   "cell_type": "code",
   "execution_count": 123,
   "id": "4c1b7a8d-670e-44f7-b615-6b1f9c3dde93",
   "metadata": {},
   "outputs": [],
   "source": [
    "for p in parameters:\n",
    "    p.requires_grad = True"
   ]
  },
  {
   "cell_type": "code",
   "execution_count": 124,
   "id": "5a3a3207-58d7-4f86-b147-b71ce75f610d",
   "metadata": {},
   "outputs": [],
   "source": [
    "lre = torch.linspace(-3, 0, 1000)\n",
    "lrs = 10**lre"
   ]
  },
  {
   "cell_type": "code",
   "execution_count": 125,
   "id": "33de3628-1895-48ca-b923-e0a5effd13f2",
   "metadata": {},
   "outputs": [],
   "source": [
    "lri = []\n",
    "lossi = []\n",
    "stepi = []"
   ]
  },
  {
   "cell_type": "code",
   "execution_count": 126,
   "id": "a7af96d2-9d59-43eb-84d0-89711ab7dfe1",
   "metadata": {},
   "outputs": [],
   "source": [
    "for i in range(200000):\n",
    "\n",
    "    # Constructing minibatch\n",
    "    ix = torch.randint(0, Xtr.shape[0], (200,))\n",
    "    \n",
    "    # Forward Pass\n",
    "    emb = C[Xtr[ix]] # (32, 3, 2)\n",
    "    h = torch.tanh(emb.view(-1,40) @ W1 + b1) # (32, 100)\n",
    "    logits = h @ W2 + b2 # (32, 27)\n",
    "    # counts = logits.exp()\n",
    "    # prob = counts / counts.sum(1, keepdims=True)\n",
    "    # loss = -prob[torch.arange(32), Y].log().mean()\n",
    "    # These three commented transformations are equivalent to cross_entropy but less efficient\n",
    "    loss = F.cross_entropy(logits, Ytr[ix])\n",
    "    # print(loss.item()) # This is just the loss for that batch\n",
    "    \n",
    "    # Backward Pass\n",
    "    for p in parameters:\n",
    "        p.grad = None\n",
    "    loss.backward()\n",
    "    \n",
    "    # Update\n",
    "    # lr = lrs[i]\n",
    "    lr = 0.1 if i < 100000 else 0.01\n",
    "    for p in parameters:\n",
    "        p.data += -lr * p.grad\n",
    "\n",
    "    # Track lr stats\n",
    "    #lri.append(lre[i])\n",
    "    stepi.append(i)\n",
    "    lossi.append(loss.log10().item())\n",
    "\n"
   ]
  },
  {
   "cell_type": "code",
   "execution_count": 127,
   "id": "37d098e3-f669-4467-84c8-dabfbe15201a",
   "metadata": {},
   "outputs": [
    {
     "data": {
      "text/plain": [
       "[<matplotlib.lines.Line2D at 0x142b6e360>]"
      ]
     },
     "execution_count": 127,
     "metadata": {},
     "output_type": "execute_result"
    },
    {
     "data": {
      "image/png": "[encoded data removed]",
      "text/plain": [
       "<Figure size 640x480 with 1 Axes>"
      ]
     },
     "metadata": {},
     "output_type": "display_data"
    }
   ],
   "source": [
    "plt.plot(stepi, lossi)"
   ]
  },
  {
   "cell_type": "code",
   "execution_count": 128,
   "id": "77afa2ef-2084-4d92-9bc5-7e54e1c35a8b",
   "metadata": {},
   "outputs": [
    {
     "data": {
      "text/plain": [
       "2.115171194076538"
      ]
     },
     "execution_count": 128,
     "metadata": {},
     "output_type": "execute_result"
    }
   ],
   "source": [
    "emb = C[Xtr] # (32, 3, 2)\n",
    "h = torch.tanh(emb.view(-1,40) @ W1 + b1) # (32, 100)\n",
    "logits = h @ W2 + b2 # (32, 27)\n",
    "loss = F.cross_entropy(logits, Ytr)\n",
    "loss.item()"
   ]
  },
  {
   "cell_type": "code",
   "execution_count": 129,
   "id": "26c88351-931d-4e82-953f-4103af5eaa3e",
   "metadata": {},
   "outputs": [
    {
     "data": {
      "text/plain": [
       "2.152472496032715"
      ]
     },
     "execution_count": 129,
     "metadata": {},
     "output_type": "execute_result"
    }
   ],
   "source": [
    "emb = C[Xdev] # (32, 3, 2)\n",
    "h = torch.tanh(emb.view(-1,40) @ W1 + b1) # (32, 100)\n",
    "logits = h @ W2 + b2 # (32, 27)\n",
    "loss = F.cross_entropy(logits, Ydev)\n",
    "loss.item()"
   ]
  },
  {
   "cell_type": "code",
   "execution_count": 103,
   "id": "725d893e-f1f9-4894-b267-b9959aa4b436",
   "metadata": {},
   "outputs": [
    {
     "data": {
      "text/plain": [
       "torch.Size([27, 10])"
      ]
     },
     "execution_count": 103,
     "metadata": {},
     "output_type": "execute_result"
    }
   ],
   "source": [
    "C.shape"
   ]
  },
  {
   "cell_type": "code",
   "execution_count": 104,
   "id": "75ff327f-e0d6-4586-85e0-b30444e07fb4",
   "metadata": {},
   "outputs": [
    {
     "data": {
      "image/png": "[encoded data removed]",
      "text/plain": [
       "<Figure size 800x800 with 1 Axes>"
      ]
     },
     "metadata": {},
     "output_type": "display_data"
    }
   ],
   "source": [
    "# When we embed the characters into two dimensions we can actually visualize the clustering of similar characters\n",
    "plt.figure(figsize=(8,8))\n",
    "plt.scatter(C[:,0].data, C[:,1].data, s=200)\n",
    "for i in range(C.shape[0]):\n",
    "    plt.text(C[i,0].item(), C[i,1].item(), itos[i], ha='center', va='center', color='white')\n",
    "plt.grid('minor')"
   ]
  },
  {
   "cell_type": "code",
   "execution_count": null,
   "id": "d5176038-30ea-46db-bbca-3e7de76ff782",
   "metadata": {},
   "outputs": [],
   "source": []
  },
  {
   "cell_type": "code",
   "execution_count": 105,
   "id": "b1c00501-b14a-40f1-9cf5-daaadc3dea6f",
   "metadata": {},
   "outputs": [
    {
     "data": {
      "text/plain": [
       "torch.Size([1, 4, 10])"
      ]
     },
     "execution_count": 105,
     "metadata": {},
     "output_type": "execute_result"
    }
   ],
   "source": [
    "context = [0] * block_size\n",
    "C[torch.tensor([context])].shape"
   ]
  },
  {
   "cell_type": "code",
   "execution_count": 109,
   "id": "735599cd-b851-4a6f-b599-ff8ed576715e",
   "metadata": {},
   "outputs": [
    {
     "name": "stdout",
     "output_type": "stream",
     "text": [
      "carpah.\n",
      "ambricki.\n",
      "kimrli.\n",
      "taty.\n",
      "salayan.\n",
      "jazonel.\n",
      "deniya.\n",
      "jarquic.\n",
      "ramari.\n",
      "chaiia.\n",
      "kaleigh.\n",
      "hamon.\n",
      "cadesinn.\n",
      "shoi.\n",
      "wailandi.\n",
      "wazero.\n",
      "dearynn.\n",
      "jaye.\n",
      "pirsly.\n",
      "edde.\n",
      "iiabethaley.\n",
      "fraulaan.\n",
      "bedricsya.\n",
      "samarioz.\n",
      "ajloen.\n",
      "iyla.\n",
      "raen.\n",
      "kalla.\n",
      "lulo.\n",
      "zoessi.\n"
     ]
    }
   ],
   "source": [
    "# sample from the model\n",
    "g = torch.Generator().manual_seed(2147483647 + 10)\n",
    "\n",
    "for _ in range(30):\n",
    "    \n",
    "    out = []\n",
    "    context = [0] * block_size # initialize with all ...\n",
    "    while True:\n",
    "      emb = C[torch.tensor([context])] # (1,block_size,d)\n",
    "      h = torch.tanh(emb.view(1, -1) @ W1 + b1)\n",
    "      logits = h @ W2 + b2\n",
    "      probs = F.softmax(logits, dim=1)\n",
    "      ix = torch.multinomial(probs, num_samples=1, generator=g).item()\n",
    "      context = context[1:] + [ix]\n",
    "      out.append(ix)\n",
    "      if ix == 0:\n",
    "        break\n",
    "    \n",
    "    print(''.join(itos[i] for i in out))"
   ]
  },
  {
   "cell_type": "code",
   "execution_count": null,
   "id": "26192e2c-32d5-4832-ba3f-6e588869916d",
   "metadata": {},
   "outputs": [],
   "source": []
  }
 ],
 "metadata": {
  "kernelspec": {
   "display_name": "venv",
   "language": "python",
   "name": "venv"
  },
  "language_info": {
   "codemirror_mode": {
    "name": "ipython",
    "version": 3
   },
   "file_extension": ".py",
   "mimetype": "text/x-python",
   "name": "python",
   "nbconvert_exporter": "python",
   "pygments_lexer": "ipython3",
   "version": "3.12.3"
  }
 },
 "nbformat": 4,
 "nbformat_minor": 5
}
